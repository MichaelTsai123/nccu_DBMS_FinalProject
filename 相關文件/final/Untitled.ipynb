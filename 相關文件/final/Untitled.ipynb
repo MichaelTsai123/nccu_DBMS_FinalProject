{
 "cells": [
  {
   "cell_type": "code",
   "execution_count": 1,
   "metadata": {},
   "outputs": [],
   "source": [
    "import csv\n",
    "import sqlite3\n",
    "import numpy as np\n",
    "hot_pot_name = ['大呼過癮', '雞湯大叔', '富樂']\n",
    "Store = [('12345678',20,4.5,'大呼過癮'), ('23456789',30,5,'雞湯大叔'), ('34567891',1,1,'富樂')]"
   ]
  },
  {
   "cell_type": "code",
   "execution_count": 2,
   "metadata": {},
   "outputs": [],
   "source": [
    "with open('schema.sql') as f:\n",
    "    create_db_sql = f.read()"
   ]
  },
  {
   "cell_type": "code",
   "execution_count": 3,
   "metadata": {},
   "outputs": [],
   "source": [
    "#建立 test.db 並把 table 的 schema 匯入進去\n",
    "db = sqlite3.connect('test.db')\n",
    "with db: \n",
    "    db.executescript(create_db_sql)"
   ]
  },
  {
   "cell_type": "code",
   "execution_count": 4,
   "metadata": {},
   "outputs": [],
   "source": [
    "for i in hot_pot_name:\n",
    "    with db:\n",
    "        db.execute(\n",
    "         'INSERT INTO  Hot_pot (Brand) VALUES (?)',\n",
    "         (i,))"
   ]
  },
  {
   "cell_type": "code",
   "execution_count": 5,
   "metadata": {},
   "outputs": [],
   "source": [
    "with db:\n",
    "    db.executemany(\n",
    "    'INSERT INTO  Store (Phonenumber, Comment_num, Avg_rating, Brand) VALUES (?, ?, ?, ?)',\n",
    "    Store)"
   ]
  },
  {
   "cell_type": "code",
   "execution_count": 118,
   "metadata": {},
   "outputs": [],
   "source": [
    "# with db:\n",
    "#     c = db.execute('SELECT * FROM Hot_pot')\n",
    "with db:\n",
    "    c = db.execute('SELECT * FROM Store')"
   ]
  },
  {
   "cell_type": "code",
   "execution_count": 119,
   "metadata": {},
   "outputs": [
    {
     "name": "stdout",
     "output_type": "stream",
     "text": [
      "('12345678', 20, 4.5, '大呼過癮')\n",
      "('23456789', 30, 5.0, '雞湯大叔')\n",
      "('34567891', 1, 1.0, '富樂')\n"
     ]
    }
   ],
   "source": [
    "for row in c:\n",
    "    print(row)"
   ]
  },
  {
   "cell_type": "code",
   "execution_count": 113,
   "metadata": {},
   "outputs": [],
   "source": [
    "with db:\n",
    "    c = db.execute('SELECT * FROM Hot_pot')"
   ]
  },
  {
   "cell_type": "code",
   "execution_count": 115,
   "metadata": {},
   "outputs": [
    {
     "name": "stdout",
     "output_type": "stream",
     "text": [
      "('大呼過癮',)\n",
      "('雞湯大叔',)\n",
      "('富樂',)\n"
     ]
    }
   ],
   "source": [
    "for i in c:\n",
    "    print(i)"
   ]
  },
  {
   "cell_type": "code",
   "execution_count": 7,
   "metadata": {},
   "outputs": [],
   "source": [
    "a = [(1,2),(3,4,5)]"
   ]
  },
  {
   "cell_type": "code",
   "execution_count": 8,
   "metadata": {},
   "outputs": [
    {
     "name": "stdout",
     "output_type": "stream",
     "text": [
      "1\n",
      "2\n",
      "3\n",
      "4\n",
      "5\n"
     ]
    }
   ],
   "source": [
    "for i in a:\n",
    "    for j in i:\n",
    "        print(j)"
   ]
  },
  {
   "cell_type": "code",
   "execution_count": null,
   "metadata": {},
   "outputs": [],
   "source": []
  }
 ],
 "metadata": {
  "kernelspec": {
   "display_name": "Python 3",
   "language": "python",
   "name": "python3"
  },
  "language_info": {
   "codemirror_mode": {
    "name": "ipython",
    "version": 3
   },
   "file_extension": ".py",
   "mimetype": "text/x-python",
   "name": "python",
   "nbconvert_exporter": "python",
   "pygments_lexer": "ipython3",
   "version": "3.7.7"
  }
 },
 "nbformat": 4,
 "nbformat_minor": 4
}
